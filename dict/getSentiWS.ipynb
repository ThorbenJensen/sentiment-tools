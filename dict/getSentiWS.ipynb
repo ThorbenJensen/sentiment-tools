{
 "cells": [
  {
   "cell_type": "code",
   "execution_count": 515,
   "metadata": {
    "collapsed": false
   },
   "outputs": [
    {
     "name": "stdout",
     "output_type": "stream",
     "text": [
      "Dictionary successfully retrieved.\n"
     ]
    }
   ],
   "source": [
    "# retrieve dictionary\n",
    "import os\n",
    "\n",
    "os.system('mkdir senti_ws')\n",
    "\n",
    "if not os.path.isfile('SentiWS_v1.8c.zip'):\n",
    "    os.system('wget -O senti_ws/SentiWS_v1.8c.zip http://wortschatz.informatik.uni-leipzig.de/download/SentiWS_v1.8c.zip')\n",
    "\n",
    "archive = 'senti_ws/SentiWS_v1.8c.zip'\n",
    "if os.path.isfile(archive):\n",
    "    print( 'Dictionary successfully retrieved.' )\n",
    "else:\n",
    "    print( 'Dictionary not retrieved!' )"
   ]
  },
  {
   "cell_type": "code",
   "execution_count": 516,
   "metadata": {
    "collapsed": false
   },
   "outputs": [],
   "source": [
    "# unzip\n",
    "os.system( 'unzip ' + archive + ' -d senti_ws' )\n",
    "positive_file = 'senti_ws/SentiWS_v1.8c_Positive.txt'\n",
    "negative_file = 'senti_ws/SentiWS_v1.8c_Negative.txt'"
   ]
  },
  {
   "cell_type": "code",
   "execution_count": 517,
   "metadata": {
    "collapsed": false
   },
   "outputs": [
    {
     "data": {
      "text/html": [
       "<div>\n",
       "<table border=\"1\" class=\"dataframe\">\n",
       "  <thead>\n",
       "    <tr style=\"text-align: right;\">\n",
       "      <th></th>\n",
       "      <th>index</th>\n",
       "      <th>base</th>\n",
       "      <th>score</th>\n",
       "      <th>examples</th>\n",
       "    </tr>\n",
       "  </thead>\n",
       "  <tbody>\n",
       "    <tr>\n",
       "      <th>0</th>\n",
       "      <td>0</td>\n",
       "      <td>Abmachung|NN</td>\n",
       "      <td>0.004</td>\n",
       "      <td>Abmachungen</td>\n",
       "    </tr>\n",
       "    <tr>\n",
       "      <th>1</th>\n",
       "      <td>1</td>\n",
       "      <td>Abschluß|NN</td>\n",
       "      <td>0.004</td>\n",
       "      <td>Abschlüße,Abschlußs,Abschlußes,Abschlüßen</td>\n",
       "    </tr>\n",
       "    <tr>\n",
       "      <th>2</th>\n",
       "      <td>2</td>\n",
       "      <td>Abstimmung|NN</td>\n",
       "      <td>0.004</td>\n",
       "      <td>Abstimmungen</td>\n",
       "    </tr>\n",
       "    <tr>\n",
       "      <th>3</th>\n",
       "      <td>3</td>\n",
       "      <td>Agilität|NN</td>\n",
       "      <td>0.004</td>\n",
       "      <td>NaN</td>\n",
       "    </tr>\n",
       "    <tr>\n",
       "      <th>4</th>\n",
       "      <td>4</td>\n",
       "      <td>Aktivität|NN</td>\n",
       "      <td>0.004</td>\n",
       "      <td>Aktivitäten</td>\n",
       "    </tr>\n",
       "  </tbody>\n",
       "</table>\n",
       "</div>"
      ],
      "text/plain": [
       "   index           base  score                                   examples\n",
       "0      0   Abmachung|NN  0.004                                Abmachungen\n",
       "1      1    Abschluß|NN  0.004  Abschlüße,Abschlußs,Abschlußes,Abschlüßen\n",
       "2      2  Abstimmung|NN  0.004                               Abstimmungen\n",
       "3      3    Agilität|NN  0.004                                        NaN\n",
       "4      4   Aktivität|NN  0.004                                Aktivitäten"
      ]
     },
     "execution_count": 517,
     "metadata": {},
     "output_type": "execute_result"
    }
   ],
   "source": [
    "# dictionary files to DataFrame (positive words)\n",
    "import pandas as pd\n",
    "\n",
    "pos = pd.read_csv(positive_file, sep='\\t', names=['base','score','examples'])\n",
    "pos = pos.reset_index()\n",
    "pos.head()"
   ]
  },
  {
   "cell_type": "code",
   "execution_count": 518,
   "metadata": {
    "collapsed": false
   },
   "outputs": [],
   "source": [
    "words = pos.examples.str.split(',', expand=True)#.fillna('')\n",
    "words = words.reset_index()"
   ]
  },
  {
   "cell_type": "code",
   "execution_count": 519,
   "metadata": {
    "collapsed": false
   },
   "outputs": [],
   "source": [
    "# positive word\n",
    "m = pos.merge(words)\n",
    "m = m.set_index(['index', 'score'])\n",
    "m = m.drop(['examples'], 1)\n",
    "m = m.stack().to_frame().reset_index()\n",
    "m = m.drop(['index', 'level_2'], 1)\n",
    "m = m.rename(columns={0:'word'})\n",
    "m.word = m.word.apply(lambda x: pd.Series(x.split('|')))[0]\n",
    "positives = m\n",
    "#positives.head()"
   ]
  },
  {
   "cell_type": "code",
   "execution_count": 520,
   "metadata": {
    "collapsed": false
   },
   "outputs": [],
   "source": [
    "# negative words\n",
    "pos = pd.read_csv(negative_file, sep='\\t', names=['base','score','examples'])\n",
    "pos = pos.reset_index()\n",
    "words = pos.examples.str.split(',', expand=True)#.fillna('')\n",
    "words = words.reset_index()\n",
    "m = pos.merge(words)\n",
    "m = m.set_index(['index', 'score'])\n",
    "m = m.drop(['examples'], 1)\n",
    "m = m.stack().to_frame().reset_index()\n",
    "m = m.drop(['index', 'level_2'], 1)\n",
    "m = m.rename(columns={0:'word'})\n",
    "m.word = m.word.apply(lambda x: pd.Series(x.split('|')))[0]\n",
    "negatives = m\n",
    "#negatives.head()"
   ]
  },
  {
   "cell_type": "code",
   "execution_count": 521,
   "metadata": {
    "collapsed": false
   },
   "outputs": [],
   "source": [
    "# combine positives and negatives\n",
    "dictionary = positives.append(negatives)"
   ]
  },
  {
   "cell_type": "code",
   "execution_count": 522,
   "metadata": {
    "collapsed": false
   },
   "outputs": [],
   "source": [
    "# DataFrame to SQLite\n",
    "import sqlite3 as lite\n",
    "\n",
    "db_filename = 'dictionary_german.sqlite'\n",
    "con = lite.connect(db_filename)\n",
    "dictionary.to_sql('dict', con, flavor='sqlite', if_exists='replace')"
   ]
  }
 ],
 "metadata": {
  "kernelspec": {
   "display_name": "Python 3",
   "language": "python",
   "name": "python3"
  },
  "language_info": {
   "codemirror_mode": {
    "name": "ipython",
    "version": 3
   },
   "file_extension": ".py",
   "mimetype": "text/x-python",
   "name": "python",
   "nbconvert_exporter": "python",
   "pygments_lexer": "ipython3",
   "version": "3.5.1"
  }
 },
 "nbformat": 4,
 "nbformat_minor": 0
}
